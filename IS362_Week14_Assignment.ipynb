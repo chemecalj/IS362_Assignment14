{
 "cells": [
  {
   "cell_type": "markdown",
   "metadata": {},
   "source": [
    "# IS 362 Week 14 Assignment"
   ]
  },
  {
   "cell_type": "markdown",
   "metadata": {},
   "source": [
    "# Recommender Systems"
   ]
  },
  {
   "cell_type": "markdown",
   "metadata": {},
   "source": [
    "Your task is to analyze an existing recommender system that you find interesting.  You should:\n",
    "\n",
    "Perform a Scenario Design analysis as described below.  Consider whether it makes sense for your selected recommender system to perform scenario design twice, once for the organization (e.g. Amazon.com) and once for the organization's customers.\n",
    "\n",
    "Attempt to reverse engineer what you can about the site, from the site interface and any available information that you can find on the Internet or elsewhere.\n",
    "\n",
    "Include specific recommendations about how to improve the site's recommendation capabilities going forward. \n",
    "Create your report using a Jupyter notebook, and create a discussion thread with a link to the GitHub repo where your Jupyter Notebook resides.  You are not expected to need to write code for this discussion assignment."
   ]
  },
  {
   "cell_type": "markdown",
   "metadata": {},
   "source": [
    "I chose to review Netflix's recommender system for my week 14 assignment. I chose Netflix because the huge customer base they have and the enormous amounts of data that Netflix collects about their customer base. Prior to their current recommender system, Netflix used a star based review system to based recommendations on. Users would return DVD's and then rate the video from 1-5 stars. This provided two functions, to confirm that the customer actually watched the video and to have a basis for recommending similarly rated movies to the user. This method was crude but at the time was the best the internet had to offer."
   ]
  },
  {
   "cell_type": "code",
   "execution_count": 10,
   "metadata": {},
   "outputs": [
    {
     "data": {
      "text/html": [
       "<img src=\"https://i.kinja-img.com/gawker-media/image/upload/s--MUQeU3pT--/c_scale,f_auto,fl_progressive,q_80,w_800/drda8fn0middpo6aabq0.jpg\"/>"
      ],
      "text/plain": [
       "<IPython.core.display.Image object>"
      ]
     },
     "execution_count": 10,
     "metadata": {},
     "output_type": "execute_result"
    }
   ],
   "source": [
    "from IPython.display import Image\n",
    "from IPython.core.display import HTML \n",
    "Image(url= \"https://i.kinja-img.com/gawker-media/image/upload/s--MUQeU3pT--/c_scale,f_auto,fl_progressive,q_80,w_800/drda8fn0middpo6aabq0.jpg\")"
   ]
  },
  {
   "cell_type": "markdown",
   "metadata": {},
   "source": [
    "# Netflix 2018"
   ]
  },
  {
   "cell_type": "markdown",
   "metadata": {},
   "source": [
    "In the age of high speed internet and streaming services the 5 star rating is no longer a viable option for gauging a customer's viewing habits. Netflix now uses what is known as a Personalized Video Ranker (PVR). Most rows that contain video recommendations to the user are ranked using the PVR algorithm."
   ]
  },
  {
   "cell_type": "code",
   "execution_count": 11,
   "metadata": {},
   "outputs": [
    {
     "data": {
      "text/html": [
       "<img src=\"https://www.le-vpn.com/wp-content/uploads/2016/05/Personalized-recommendation.png\"/>"
      ],
      "text/plain": [
       "<IPython.core.display.Image object>"
      ]
     },
     "execution_count": 11,
     "metadata": {},
     "output_type": "execute_result"
    }
   ],
   "source": [
    "from IPython.display import Image\n",
    "from IPython.core.display import HTML \n",
    "Image(url= \"https://www.le-vpn.com/wp-content/uploads/2016/05/Personalized-recommendation.png\")"
   ]
  },
  {
   "cell_type": "markdown",
   "metadata": {},
   "source": [
    "# Who are your target users?"
   ]
  },
  {
   "cell_type": "markdown",
   "metadata": {},
   "source": [
    "The target users for the recommender systems are Netflix subscribers who use the streaming service offered. The PVR system, while collecting vast amounts of data is pretty simple in it's approach. The PVR system makes recommendations by comparing the watching and searching habits of similar users and combining that data with movies that share similar characteristics to movies the user has rated highly. "
   ]
  },
  {
   "cell_type": "markdown",
   "metadata": {},
   "source": [
    "The PVR systemis collaborative, content-based, knowledge-based and uses demographic techniques to form the foundation of it's recommendation system. It takes over 100 algorithmic approaches and form a single prediction from the outcome. Using these approaches helps achieve the goal of a more tailored recommendation that would be acceptable to the user."
   ]
  },
  {
   "cell_type": "code",
   "execution_count": 12,
   "metadata": {},
   "outputs": [
    {
     "data": {
      "text/html": [
       "<img src=\"https://avraammavridis.com/static/img/netflix_recommender.jpg\"/>"
      ],
      "text/plain": [
       "<IPython.core.display.Image object>"
      ]
     },
     "execution_count": 12,
     "metadata": {},
     "output_type": "execute_result"
    }
   ],
   "source": [
    "from IPython.display import Image\n",
    "from IPython.core.display import HTML \n",
    "Image(url= \"https://avraammavridis.com/static/img/netflix_recommender.jpg\")"
   ]
  },
  {
   "cell_type": "markdown",
   "metadata": {},
   "source": [
    "# What are their key goals?"
   ]
  },
  {
   "cell_type": "markdown",
   "metadata": {},
   "source": [
    "Netflix know it only has about 90 seconds to convince the user it has something for them to watch before they abandon the service and move on to another service or medium. They understand that personalization is the key to keep users coming back to their service."
   ]
  },
  {
   "cell_type": "markdown",
   "metadata": {},
   "source": [
    "Netflix is also seeking to grow their business and become a producer of films and shows that can be accessed globally. They use the PVR system to gain insights into \"moments of truth\" that help members find an engaging video within moments to prevent abandonment of their service. This in turn helps them develop miche content that would not be viable for broadcast television."
   ]
  },
  {
   "cell_type": "markdown",
   "metadata": {},
   "source": [
    "Lastly, they also use the PVR system to cull and tailor thier catalog which in turn keeps costs down and also only hosts material that their core audience will utilize. "
   ]
  },
  {
   "cell_type": "code",
   "execution_count": 13,
   "metadata": {},
   "outputs": [
    {
     "data": {
      "text/html": [
       "<img src=\"https://millermedia7.com/wp-content/uploads/2017/12/s19.jpg\"/>"
      ],
      "text/plain": [
       "<IPython.core.display.Image object>"
      ]
     },
     "execution_count": 13,
     "metadata": {},
     "output_type": "execute_result"
    }
   ],
   "source": [
    "from IPython.display import Image\n",
    "from IPython.core.display import HTML\n",
    "Image(url= \"https://millermedia7.com/wp-content/uploads/2017/12/s19.jpg\")"
   ]
  },
  {
   "cell_type": "markdown",
   "metadata": {},
   "source": [
    "# How can you help them accomplish those goals?"
   ]
  },
  {
   "cell_type": "markdown",
   "metadata": {},
   "source": [
    "The biggest step in helping Netflix accomplish their goals is to watch videos past the 120 second mark. This shows that you had an interest in the video you were watching and they can tailor thier content to be more specific to their user base's taste. Another important step to take is to rate the videos you watch which helps feed information to the algorithm. This also lets Netflix know what movies or shows their user base is interested in and can be a big help in providing Netflix with what content to host or produce next."
   ]
  },
  {
   "cell_type": "code",
   "execution_count": 14,
   "metadata": {},
   "outputs": [
    {
     "data": {
      "text/html": [
       "<img src=\"https://image.slidesharecdn.com/qcon-xavier-131118142118-phpapp01/95/qcon-sf-2013-machine-learning-recommender-systems-netflix-scale-12-638.jpg?cb=1384784551\"/>"
      ],
      "text/plain": [
       "<IPython.core.display.Image object>"
      ]
     },
     "execution_count": 14,
     "metadata": {},
     "output_type": "execute_result"
    }
   ],
   "source": [
    "from IPython.display import Image\n",
    "from IPython.core.display import HTML\n",
    "Image(url= \"https://image.slidesharecdn.com/qcon-xavier-131118142118-phpapp01/95/qcon-sf-2013-machine-learning-recommender-systems-netflix-scale-12-638.jpg?cb=1384784551\")"
   ]
  },
  {
   "cell_type": "markdown",
   "metadata": {},
   "source": [
    "# Conclusion"
   ]
  },
  {
   "cell_type": "markdown",
   "metadata": {},
   "source": [
    "I think Netflix performing the the scenario design twice would be a good idea. It would help them gain more insight into their user base and their viewing habits. It would also provide a stronger database for their algorithm so when they choose to create original content they can be sure that content will be consumed easier. This would help retain their userbase and very possibly help them recruit new users to their service. "
   ]
  },
  {
   "cell_type": "markdown",
   "metadata": {},
   "source": [
    "The main issue I have with Netflix's PVR system is that it is dynamic. If I watch a few movies that may not actually be to my liking it will start to factor those movies into my algorithm. Netflix adapts to these viewing changes very quickly which can skew my recommendations. I would say that Netflix should possibly wait longer before incorporating new views into the algorithm. They could also possibly make a recommended for you category that only reflects recently viewed movies while your original recommendations could be more tailored towards your actual viewing habits."
   ]
  }
 ],
 "metadata": {
  "kernelspec": {
   "display_name": "Python 2",
   "language": "python",
   "name": "python2"
  },
  "language_info": {
   "codemirror_mode": {
    "name": "ipython",
    "version": 2
   },
   "file_extension": ".py",
   "mimetype": "text/x-python",
   "name": "python",
   "nbconvert_exporter": "python",
   "pygments_lexer": "ipython2",
   "version": "2.7.13"
  }
 },
 "nbformat": 4,
 "nbformat_minor": 2
}
